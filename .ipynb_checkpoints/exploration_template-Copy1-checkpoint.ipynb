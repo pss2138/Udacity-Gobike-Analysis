{
 "cells": [
  {
   "cell_type": "markdown",
   "metadata": {},
   "source": [
    "# (Ford GoBike System Data, March 2020)\n",
    "## by (Seongsu Park)\n",
    "\n",
    "## Preliminary Wrangling\n",
    "\n",
    "> This data is provided according to the Bay Wheels License Agreement, working with the transport corporate, Lyft, together.\n",
    "> The data is the usage of GoBike in San Francisco, USA."
   ]
  },
  {
   "cell_type": "code",
   "execution_count": 21,
   "metadata": {},
   "outputs": [],
   "source": [
    "# import all packages and set plots to be embedded inline\n",
    "import numpy as np\n",
    "import pandas as pd\n",
    "import matplotlib.pyplot as plt\n",
    "import seaborn as sns\n",
    "\n",
    "%matplotlib inline"
   ]
  },
  {
   "cell_type": "markdown",
   "metadata": {},
   "source": [
    "> Load in your dataset and describe its properties through the questions below.\n",
    "Try and motivate your exploration goals through this section."
   ]
  },
  {
   "cell_type": "code",
   "execution_count": 22,
   "metadata": {
    "scrolled": true
   },
   "outputs": [
    {
     "data": {
      "text/html": [
       "<div>\n",
       "<style scoped>\n",
       "    .dataframe tbody tr th:only-of-type {\n",
       "        vertical-align: middle;\n",
       "    }\n",
       "\n",
       "    .dataframe tbody tr th {\n",
       "        vertical-align: top;\n",
       "    }\n",
       "\n",
       "    .dataframe thead th {\n",
       "        text-align: right;\n",
       "    }\n",
       "</style>\n",
       "<table border=\"1\" class=\"dataframe\">\n",
       "  <thead>\n",
       "    <tr style=\"text-align: right;\">\n",
       "      <th></th>\n",
       "      <th>duration_sec</th>\n",
       "      <th>start_time</th>\n",
       "      <th>end_time</th>\n",
       "      <th>start_station_id</th>\n",
       "      <th>start_station_name</th>\n",
       "      <th>start_station_latitude</th>\n",
       "      <th>start_station_longitude</th>\n",
       "      <th>end_station_id</th>\n",
       "      <th>end_station_name</th>\n",
       "      <th>end_station_latitude</th>\n",
       "      <th>end_station_longitude</th>\n",
       "      <th>bike_id</th>\n",
       "      <th>user_type</th>\n",
       "      <th>rental_access_method</th>\n",
       "    </tr>\n",
       "  </thead>\n",
       "  <tbody>\n",
       "    <tr>\n",
       "      <th>0</th>\n",
       "      <td>35187</td>\n",
       "      <td>2020-03-31 20:42:10.0790</td>\n",
       "      <td>2020-04-01 06:28:37.8440</td>\n",
       "      <td>462.0</td>\n",
       "      <td>Cruise Terminal at Pier 27</td>\n",
       "      <td>37.804648</td>\n",
       "      <td>-122.402087</td>\n",
       "      <td>24.0</td>\n",
       "      <td>Spear St at Folsom St</td>\n",
       "      <td>37.789677</td>\n",
       "      <td>-122.390428</td>\n",
       "      <td>10982</td>\n",
       "      <td>Customer</td>\n",
       "      <td>NaN</td>\n",
       "    </tr>\n",
       "    <tr>\n",
       "      <th>1</th>\n",
       "      <td>14568</td>\n",
       "      <td>2020-03-31 22:45:25.5010</td>\n",
       "      <td>2020-04-01 02:48:13.7730</td>\n",
       "      <td>42.0</td>\n",
       "      <td>San Francisco City Hall (Polk St at Grove St)</td>\n",
       "      <td>37.778650</td>\n",
       "      <td>-122.418230</td>\n",
       "      <td>370.0</td>\n",
       "      <td>Jones St at Post St</td>\n",
       "      <td>37.787327</td>\n",
       "      <td>-122.413278</td>\n",
       "      <td>12617</td>\n",
       "      <td>Customer</td>\n",
       "      <td>NaN</td>\n",
       "    </tr>\n",
       "    <tr>\n",
       "      <th>2</th>\n",
       "      <td>35990</td>\n",
       "      <td>2020-03-31 15:08:22.3310</td>\n",
       "      <td>2020-04-01 01:08:12.9900</td>\n",
       "      <td>391.0</td>\n",
       "      <td>1st St at Younger Ave</td>\n",
       "      <td>37.355030</td>\n",
       "      <td>-121.904436</td>\n",
       "      <td>397.0</td>\n",
       "      <td>Gish Rd at 1st St</td>\n",
       "      <td>37.361867</td>\n",
       "      <td>-121.909315</td>\n",
       "      <td>12812</td>\n",
       "      <td>Customer</td>\n",
       "      <td>NaN</td>\n",
       "    </tr>\n",
       "    <tr>\n",
       "      <th>3</th>\n",
       "      <td>1068</td>\n",
       "      <td>2020-03-31 23:55:00.4260</td>\n",
       "      <td>2020-04-01 00:12:49.0200</td>\n",
       "      <td>456.0</td>\n",
       "      <td>Arguello Blvd at Geary Blvd</td>\n",
       "      <td>37.781468</td>\n",
       "      <td>-122.458806</td>\n",
       "      <td>107.0</td>\n",
       "      <td>17th St at Dolores St</td>\n",
       "      <td>37.763015</td>\n",
       "      <td>-122.426497</td>\n",
       "      <td>12955</td>\n",
       "      <td>Customer</td>\n",
       "      <td>NaN</td>\n",
       "    </tr>\n",
       "    <tr>\n",
       "      <th>4</th>\n",
       "      <td>3300</td>\n",
       "      <td>2020-03-31 23:00:55.6410</td>\n",
       "      <td>2020-03-31 23:55:56.6110</td>\n",
       "      <td>6.0</td>\n",
       "      <td>The Embarcadero at Sansome St</td>\n",
       "      <td>37.804770</td>\n",
       "      <td>-122.403234</td>\n",
       "      <td>24.0</td>\n",
       "      <td>Spear St at Folsom St</td>\n",
       "      <td>37.789677</td>\n",
       "      <td>-122.390428</td>\n",
       "      <td>13050</td>\n",
       "      <td>Customer</td>\n",
       "      <td>NaN</td>\n",
       "    </tr>\n",
       "  </tbody>\n",
       "</table>\n",
       "</div>"
      ],
      "text/plain": [
       "   duration_sec                start_time                  end_time  \\\n",
       "0         35187  2020-03-31 20:42:10.0790  2020-04-01 06:28:37.8440   \n",
       "1         14568  2020-03-31 22:45:25.5010  2020-04-01 02:48:13.7730   \n",
       "2         35990  2020-03-31 15:08:22.3310  2020-04-01 01:08:12.9900   \n",
       "3          1068  2020-03-31 23:55:00.4260  2020-04-01 00:12:49.0200   \n",
       "4          3300  2020-03-31 23:00:55.6410  2020-03-31 23:55:56.6110   \n",
       "\n",
       "   start_station_id                             start_station_name  \\\n",
       "0             462.0                     Cruise Terminal at Pier 27   \n",
       "1              42.0  San Francisco City Hall (Polk St at Grove St)   \n",
       "2             391.0                          1st St at Younger Ave   \n",
       "3             456.0                    Arguello Blvd at Geary Blvd   \n",
       "4               6.0                  The Embarcadero at Sansome St   \n",
       "\n",
       "   start_station_latitude  start_station_longitude  end_station_id  \\\n",
       "0               37.804648              -122.402087            24.0   \n",
       "1               37.778650              -122.418230           370.0   \n",
       "2               37.355030              -121.904436           397.0   \n",
       "3               37.781468              -122.458806           107.0   \n",
       "4               37.804770              -122.403234            24.0   \n",
       "\n",
       "        end_station_name  end_station_latitude  end_station_longitude  \\\n",
       "0  Spear St at Folsom St             37.789677            -122.390428   \n",
       "1    Jones St at Post St             37.787327            -122.413278   \n",
       "2      Gish Rd at 1st St             37.361867            -121.909315   \n",
       "3  17th St at Dolores St             37.763015            -122.426497   \n",
       "4  Spear St at Folsom St             37.789677            -122.390428   \n",
       "\n",
       "   bike_id user_type rental_access_method  \n",
       "0    10982  Customer                  NaN  \n",
       "1    12617  Customer                  NaN  \n",
       "2    12812  Customer                  NaN  \n",
       "3    12955  Customer                  NaN  \n",
       "4    13050  Customer                  NaN  "
      ]
     },
     "execution_count": 22,
     "metadata": {},
     "output_type": "execute_result"
    }
   ],
   "source": [
    "df = pd.read_csv('tripdata_202003.csv')\n",
    "df.head()"
   ]
  },
  {
   "cell_type": "code",
   "execution_count": 23,
   "metadata": {},
   "outputs": [
    {
     "name": "stdout",
     "output_type": "stream",
     "text": [
      "<class 'pandas.core.frame.DataFrame'>\n",
      "RangeIndex: 176799 entries, 0 to 176798\n",
      "Data columns (total 14 columns):\n",
      " #   Column                   Non-Null Count   Dtype  \n",
      "---  ------                   --------------   -----  \n",
      " 0   duration_sec             176799 non-null  int64  \n",
      " 1   start_time               176799 non-null  object \n",
      " 2   end_time                 176799 non-null  object \n",
      " 3   start_station_id         110696 non-null  float64\n",
      " 4   start_station_name       111349 non-null  object \n",
      " 5   start_station_latitude   176799 non-null  float64\n",
      " 6   start_station_longitude  176799 non-null  float64\n",
      " 7   end_station_id           111097 non-null  float64\n",
      " 8   end_station_name         111794 non-null  object \n",
      " 9   end_station_latitude     176799 non-null  float64\n",
      " 10  end_station_longitude    176799 non-null  float64\n",
      " 11  bike_id                  176799 non-null  int64  \n",
      " 12  user_type                176799 non-null  object \n",
      " 13  rental_access_method     114269 non-null  object \n",
      "dtypes: float64(6), int64(2), object(6)\n",
      "memory usage: 18.9+ MB\n"
     ]
    }
   ],
   "source": [
    "df.info()"
   ]
  },
  {
   "cell_type": "markdown",
   "metadata": {},
   "source": [
    "### What is/are the main feature(s) of interest in your dataset and the structure?\n",
    "\n",
    "- duration_sec : **'quantitative variable'** amount of the bike usage in second unit. We can use this variable to understand if the long-used bike is differed depending on the user types.\n",
    "\n",
    "- bike_id : **'qualitative variable'** the ids of bikes. We can track if  there is are specific bikes that have been used.\n",
    "\n",
    "- user_type : **'qualitative variable'**(Subscriber / Customer) types of users who subscribe the gobike or not. We can track if there is a loyalty to this gobike.\n",
    "\n",
    "- rental_access_method : **'qualitative variable'**(app / clipper) the way of renting the bike. We can use this data if we need to give up advertising the clipper's way.\n",
    "\n",
    "### What features in the dataset do you think will help support your investigation into your feature(s) of interest?\n",
    "\n",
    "- It might have been not too useful in the general situation, but in the COVID-19 situation, we need to understand the new trend of the customers since March, 2020. Therefore, rather than comparing the past policies and the trends, we will set up a blank white board and study as the first trial."
   ]
  },
  {
   "cell_type": "markdown",
   "metadata": {},
   "source": [
    "## Univariate Exploration\n",
    "\n",
    "> In this section, investigate distributions of individual variables. If\n",
    "you see unusual points or outliers, take a deeper look to clean things up\n",
    "and prepare yourself to look at relationships between variables."
   ]
  },
  {
   "cell_type": "code",
   "execution_count": null,
   "metadata": {},
   "outputs": [],
   "source": []
  },
  {
   "cell_type": "markdown",
   "metadata": {},
   "source": [
    "> Make sure that, after every plot or related series of plots, that you\n",
    "include a Markdown cell with comments about what you observed, and what\n",
    "you plan on investigating next."
   ]
  },
  {
   "cell_type": "code",
   "execution_count": null,
   "metadata": {},
   "outputs": [],
   "source": []
  },
  {
   "cell_type": "markdown",
   "metadata": {},
   "source": [
    "### Discuss the distribution(s) of your variable(s) of interest. Were there any unusual points? Did you need to perform any transformations?\n",
    "\n",
    "> Your answer here!\n",
    "\n",
    "### Of the features you investigated, were there any unusual distributions? Did you perform any operations on the data to tidy, adjust, or change the form of the data? If so, why did you do this?\n",
    "\n",
    "> Your answer here!"
   ]
  },
  {
   "cell_type": "markdown",
   "metadata": {},
   "source": [
    "## Bivariate Exploration\n",
    "\n",
    "> In this section, investigate relationships between pairs of variables in your\n",
    "data. Make sure the variables that you cover here have been introduced in some\n",
    "fashion in the previous section (univariate exploration)."
   ]
  },
  {
   "cell_type": "code",
   "execution_count": null,
   "metadata": {},
   "outputs": [],
   "source": []
  },
  {
   "cell_type": "markdown",
   "metadata": {},
   "source": [
    "### Talk about some of the relationships you observed in this part of the investigation. How did the feature(s) of interest vary with other features in the dataset?\n",
    "\n",
    "> Your answer here!\n",
    "\n",
    "### Did you observe any interesting relationships between the other features (not the main feature(s) of interest)?\n",
    "\n",
    "> Your answer here!"
   ]
  },
  {
   "cell_type": "markdown",
   "metadata": {},
   "source": [
    "## Multivariate Exploration\n",
    "\n",
    "> Create plots of three or more variables to investigate your data even\n",
    "further. Make sure that your investigations are justified, and follow from\n",
    "your work in the previous sections."
   ]
  },
  {
   "cell_type": "code",
   "execution_count": null,
   "metadata": {},
   "outputs": [],
   "source": []
  },
  {
   "cell_type": "markdown",
   "metadata": {},
   "source": [
    "### Talk about some of the relationships you observed in this part of the investigation. Were there features that strengthened each other in terms of looking at your feature(s) of interest?\n",
    "\n",
    "> Your answer here!\n",
    "\n",
    "### Were there any interesting or surprising interactions between features?\n",
    "\n",
    "> Your answer here!"
   ]
  },
  {
   "cell_type": "markdown",
   "metadata": {},
   "source": [
    "> At the end of your report, make sure that you export the notebook as an\n",
    "html file from the `File > Download as... > HTML` menu. Make sure you keep\n",
    "track of where the exported file goes, so you can put it in the same folder\n",
    "as this notebook for project submission. Also, make sure you remove all of\n",
    "the quote-formatted guide notes like this one before you finish your report!"
   ]
  },
  {
   "cell_type": "code",
   "execution_count": null,
   "metadata": {},
   "outputs": [],
   "source": []
  }
 ],
 "metadata": {
  "hide_input": false,
  "kernelspec": {
   "display_name": "Python 3",
   "language": "python",
   "name": "python3"
  },
  "language_info": {
   "codemirror_mode": {
    "name": "ipython",
    "version": 3
   },
   "file_extension": ".py",
   "mimetype": "text/x-python",
   "name": "python",
   "nbconvert_exporter": "python",
   "pygments_lexer": "ipython3",
   "version": "3.7.7"
  }
 },
 "nbformat": 4,
 "nbformat_minor": 2
}
