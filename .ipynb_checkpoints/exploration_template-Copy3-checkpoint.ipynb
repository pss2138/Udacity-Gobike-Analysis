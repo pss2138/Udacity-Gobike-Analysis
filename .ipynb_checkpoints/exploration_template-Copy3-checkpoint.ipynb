{
 "cells": [
  {
   "cell_type": "markdown",
   "metadata": {},
   "source": [
    "# (Ford GoBike System Data, March 2020)\n",
    "## by (Seongsu Park)\n",
    "\n",
    "## Preliminary Wrangling\n",
    "\n",
    "> This data is provided according to the Bay Wheels License Agreement, working with the transport corporate, Lyft, together.\n",
    "> The data is the usage of GoBike in San Francisco, USA."
   ]
  },
  {
   "cell_type": "code",
   "execution_count": 110,
   "metadata": {},
   "outputs": [],
   "source": [
    "# import all packages and set plots to be embedded inline\n",
    "import numpy as np\n",
    "import pandas as pd\n",
    "import matplotlib.pyplot as plt\n",
    "import seaborn as sns\n",
    "\n",
    "%matplotlib inline"
   ]
  },
  {
   "cell_type": "markdown",
   "metadata": {},
   "source": [
    "> (((((((((((((()))))))))))))Load in your dataset and describe its properties through the questions below.\n",
    "Try and motivate your exploration goals through this section."
   ]
  },
  {
   "cell_type": "code",
   "execution_count": 127,
   "metadata": {
    "scrolled": true
   },
   "outputs": [
    {
     "name": "stderr",
     "output_type": "stream",
     "text": [
      "C:\\Users\\pss21\\anaconda3\\lib\\site-packages\\IPython\\core\\interactiveshell.py:3063: DtypeWarning: Columns (13) have mixed types.Specify dtype option on import or set low_memory=False.\n",
      "  interactivity=interactivity, compiler=compiler, result=result)\n"
     ]
    },
    {
     "data": {
      "text/html": [
       "<div>\n",
       "<style scoped>\n",
       "    .dataframe tbody tr th:only-of-type {\n",
       "        vertical-align: middle;\n",
       "    }\n",
       "\n",
       "    .dataframe tbody tr th {\n",
       "        vertical-align: top;\n",
       "    }\n",
       "\n",
       "    .dataframe thead th {\n",
       "        text-align: right;\n",
       "    }\n",
       "</style>\n",
       "<table border=\"1\" class=\"dataframe\">\n",
       "  <thead>\n",
       "    <tr style=\"text-align: right;\">\n",
       "      <th></th>\n",
       "      <th>duration_sec</th>\n",
       "      <th>start_time</th>\n",
       "      <th>end_time</th>\n",
       "      <th>start_station_id</th>\n",
       "      <th>start_station_name</th>\n",
       "      <th>start_station_latitude</th>\n",
       "      <th>start_station_longitude</th>\n",
       "      <th>end_station_id</th>\n",
       "      <th>end_station_name</th>\n",
       "      <th>end_station_latitude</th>\n",
       "      <th>end_station_longitude</th>\n",
       "      <th>bike_id</th>\n",
       "      <th>user_type</th>\n",
       "      <th>rental_access_method</th>\n",
       "    </tr>\n",
       "  </thead>\n",
       "  <tbody>\n",
       "    <tr>\n",
       "      <th>295853</th>\n",
       "      <td>6477</td>\n",
       "      <td>2020-01-04 15:11:49</td>\n",
       "      <td>2020-01-04 16:59:47</td>\n",
       "      <td>NaN</td>\n",
       "      <td>NaN</td>\n",
       "      <td>37.811147</td>\n",
       "      <td>-122.410889</td>\n",
       "      <td>NaN</td>\n",
       "      <td>NaN</td>\n",
       "      <td>37.797196</td>\n",
       "      <td>-122.434999</td>\n",
       "      <td>282535</td>\n",
       "      <td>Customer</td>\n",
       "      <td>app</td>\n",
       "    </tr>\n",
       "    <tr>\n",
       "      <th>295852</th>\n",
       "      <td>1735</td>\n",
       "      <td>2020-01-30 23:08:59</td>\n",
       "      <td>2020-01-30 23:37:54</td>\n",
       "      <td>NaN</td>\n",
       "      <td>NaN</td>\n",
       "      <td>37.810575</td>\n",
       "      <td>-122.410644</td>\n",
       "      <td>NaN</td>\n",
       "      <td>NaN</td>\n",
       "      <td>37.786252</td>\n",
       "      <td>-122.409532</td>\n",
       "      <td>219934</td>\n",
       "      <td>Subscriber</td>\n",
       "      <td>app</td>\n",
       "    </tr>\n",
       "    <tr>\n",
       "      <th>295851</th>\n",
       "      <td>12530</td>\n",
       "      <td>2020-01-09 13:56:54</td>\n",
       "      <td>2020-01-09 17:25:44</td>\n",
       "      <td>NaN</td>\n",
       "      <td>NaN</td>\n",
       "      <td>37.810550</td>\n",
       "      <td>-122.476451</td>\n",
       "      <td>468.0</td>\n",
       "      <td>Grove St at Gough St</td>\n",
       "      <td>37.777870</td>\n",
       "      <td>-122.422953</td>\n",
       "      <td>380070</td>\n",
       "      <td>Subscriber</td>\n",
       "      <td>app</td>\n",
       "    </tr>\n",
       "    <tr>\n",
       "      <th>295850</th>\n",
       "      <td>1328</td>\n",
       "      <td>2020-01-06 12:40:12</td>\n",
       "      <td>2020-01-06 13:02:20</td>\n",
       "      <td>NaN</td>\n",
       "      <td>NaN</td>\n",
       "      <td>37.810496</td>\n",
       "      <td>-122.476856</td>\n",
       "      <td>NaN</td>\n",
       "      <td>NaN</td>\n",
       "      <td>37.780677</td>\n",
       "      <td>-122.475797</td>\n",
       "      <td>301867</td>\n",
       "      <td>Subscriber</td>\n",
       "      <td>app</td>\n",
       "    </tr>\n",
       "    <tr>\n",
       "      <th>295849</th>\n",
       "      <td>890</td>\n",
       "      <td>2020-01-26 16:18:12</td>\n",
       "      <td>2020-01-26 16:33:02</td>\n",
       "      <td>NaN</td>\n",
       "      <td>NaN</td>\n",
       "      <td>37.810492</td>\n",
       "      <td>-122.476752</td>\n",
       "      <td>NaN</td>\n",
       "      <td>NaN</td>\n",
       "      <td>37.786677</td>\n",
       "      <td>-122.466642</td>\n",
       "      <td>353366</td>\n",
       "      <td>Customer</td>\n",
       "      <td>app</td>\n",
       "    </tr>\n",
       "  </tbody>\n",
       "</table>\n",
       "</div>"
      ],
      "text/plain": [
       "        duration_sec           start_time             end_time  \\\n",
       "295853          6477  2020-01-04 15:11:49  2020-01-04 16:59:47   \n",
       "295852          1735  2020-01-30 23:08:59  2020-01-30 23:37:54   \n",
       "295851         12530  2020-01-09 13:56:54  2020-01-09 17:25:44   \n",
       "295850          1328  2020-01-06 12:40:12  2020-01-06 13:02:20   \n",
       "295849           890  2020-01-26 16:18:12  2020-01-26 16:33:02   \n",
       "\n",
       "        start_station_id start_station_name  start_station_latitude  \\\n",
       "295853               NaN                NaN               37.811147   \n",
       "295852               NaN                NaN               37.810575   \n",
       "295851               NaN                NaN               37.810550   \n",
       "295850               NaN                NaN               37.810496   \n",
       "295849               NaN                NaN               37.810492   \n",
       "\n",
       "        start_station_longitude  end_station_id      end_station_name  \\\n",
       "295853              -122.410889             NaN                   NaN   \n",
       "295852              -122.410644             NaN                   NaN   \n",
       "295851              -122.476451           468.0  Grove St at Gough St   \n",
       "295850              -122.476856             NaN                   NaN   \n",
       "295849              -122.476752             NaN                   NaN   \n",
       "\n",
       "        end_station_latitude  end_station_longitude  bike_id   user_type  \\\n",
       "295853             37.797196            -122.434999   282535    Customer   \n",
       "295852             37.786252            -122.409532   219934  Subscriber   \n",
       "295851             37.777870            -122.422953   380070  Subscriber   \n",
       "295850             37.780677            -122.475797   301867  Subscriber   \n",
       "295849             37.786677            -122.466642   353366    Customer   \n",
       "\n",
       "       rental_access_method  \n",
       "295853                  app  \n",
       "295852                  app  \n",
       "295851                  app  \n",
       "295850                  app  \n",
       "295849                  app  "
      ]
     },
     "execution_count": 127,
     "metadata": {},
     "output_type": "execute_result"
    }
   ],
   "source": [
    "df1 = pd.read_csv('tripdata_202003.csv')\n",
    "df2 = pd.read_csv('tripdata_202002.csv')\n",
    "df3 = pd.read_csv('tripdata_202001.csv')\n",
    "df = df1.append([df2, df3])\n",
    "df = df.iloc[::-1]\n",
    "df.head()"
   ]
  },
  {
   "cell_type": "code",
   "execution_count": 128,
   "metadata": {
    "scrolled": false
   },
   "outputs": [
    {
     "name": "stdout",
     "output_type": "stream",
     "text": [
      "<class 'pandas.core.frame.DataFrame'>\n",
      "Int64Index: 905007 entries, 295853 to 0\n",
      "Data columns (total 14 columns):\n",
      " #   Column                   Non-Null Count   Dtype  \n",
      "---  ------                   --------------   -----  \n",
      " 0   duration_sec             905007 non-null  int64  \n",
      " 1   start_time               905007 non-null  object \n",
      " 2   end_time                 905007 non-null  object \n",
      " 3   start_station_id         418705 non-null  float64\n",
      " 4   start_station_name       419938 non-null  object \n",
      " 5   start_station_latitude   905007 non-null  float64\n",
      " 6   start_station_longitude  905007 non-null  float64\n",
      " 7   end_station_id           419225 non-null  float64\n",
      " 8   end_station_name         420499 non-null  object \n",
      " 9   end_station_latitude     905007 non-null  float64\n",
      " 10  end_station_longitude    905007 non-null  float64\n",
      " 11  bike_id                  905007 non-null  int64  \n",
      " 12  user_type                905007 non-null  object \n",
      " 13  rental_access_method     617858 non-null  object \n",
      "dtypes: float64(6), int64(2), object(6)\n",
      "memory usage: 103.6+ MB\n"
     ]
    }
   ],
   "source": [
    "df.info()"
   ]
  },
  {
   "cell_type": "code",
   "execution_count": 129,
   "metadata": {},
   "outputs": [],
   "source": [
    "df['bike_id'] = df['bike_id'].astype('str')"
   ]
  },
  {
   "cell_type": "code",
   "execution_count": 130,
   "metadata": {
    "scrolled": true
   },
   "outputs": [
    {
     "data": {
      "text/plain": [
       "February    423081\n",
       "January     294122\n",
       "March       182608\n",
       "Name: start_time, dtype: int64"
      ]
     },
     "execution_count": 130,
     "metadata": {},
     "output_type": "execute_result"
    }
   ],
   "source": [
    "df['start_time'] = pd.to_datetime(df['start_time'])\n",
    "df['start_time'] = df['start_time'].dt.month\n",
    "df['start_time'] = df['start_time'].replace(3, \"March\")\n",
    "df['start_time'] = df['start_time'].replace(2, \"February\")\n",
    "df['start_time'] = df['start_time'].replace(1, \"January\")\n",
    "df = df.drop(df[df.start_time == 4].index)\n",
    "df['start_time'].value_counts()"
   ]
  },
  {
   "cell_type": "markdown",
   "metadata": {},
   "source": [
    "### What is/are the main feature(s) of interest in your dataset and the structure?\n",
    "\n",
    "- duration_sec : **'quantitative variable'** amount of the bike usage in second unit. We can use this variable to understand if the long-used bike is differed depending on the user types.\n",
    "\n",
    "- user_type : **'qualitative variable'**(Subscriber / Customer) types of users who subscribe the gobike or not. We can track if there is a loyalty to this gobike.\n",
    "\n",
    "- rental_access_method : **'qualitative variable'**(app / clipper) the way of renting the bike. We can use this data if we need to give up advertising the clipper's way.\n",
    "\n",
    "- start_time : **'qualitative variable'**(March / February / January) the distribution in 2020. We can divide the data by month.\n",
    "\n",
    "### What features in the dataset do you think will help support your investigation into your feature(s) of interest?\n",
    "\n",
    "- It might have been not too useful in the general situation, but in the COVID-19 situation, we need to understand the new trend of the customers since March, 2020. Therefore, rather than comparing the past policies and the trends, we will set up a blank white board and study as the first trial.\n",
    "\n",
    "- **I want to see the amount change of usage and the trend of using GoBike service since this COVID-19 situation.**"
   ]
  },
  {
   "cell_type": "markdown",
   "metadata": {},
   "source": [
    "## Univariate Exploration\n",
    "\n",
    "**duration_sec**\n",
    "\n",
    "- Most of the duration was between 0 to 2,000 sec.\n",
    "\n",
    "- The hightes amount of usage was still more than 10,000 people.\n",
    "\n",
    "\n",
    "- We need to percisely investigate the short time usage (especially upto 2,000 seconds).\n",
    "\n",
    "- As the amount of users are still more than 10,000, we need to find the way how to supply such amount of bikes."
   ]
  },
  {
   "cell_type": "code",
   "execution_count": 131,
   "metadata": {
    "scrolled": true
   },
   "outputs": [
    {
     "data": {
      "image/png": "[encoded data removed]",
      "text/plain": [
       "<Figure size 432x288 with 2 Axes>"
      ]
     },
     "metadata": {
      "needs_background": "light"
     },
     "output_type": "display_data"
    }
   ],
   "source": [
    "plt.subplot(1,2,1)\n",
    "bins = np.arange(0, df['duration_sec'].max()+5000, 60)\n",
    "plt.hist(data=df, x='duration_sec', bins=bins)\n",
    "plt.xlim(0,4000)\n",
    "plt.xlabel('Duration Second(s)')\n",
    "plt.ylabel('Number of Values')\n",
    "plt.title('Variation from 0 to 4000')\n",
    "\n",
    "plt.subplot(1,2,2)\n",
    "bins = np.arange(0, df['duration_sec'].max()+5000, 5000)\n",
    "plt.hist(data=df, x='duration_sec', bins=bins)\n",
    "plt.xlabel('Duration Second(s)')\n",
    "plt.ylabel('Number of Values')\n",
    "plt.title('Total Variation')\n",
    "\n",
    "plt.tight_layout()"
   ]
  },
  {
   "cell_type": "markdown",
   "metadata": {},
   "source": [
    "As the data has a lot of outliers, we need to adjusts the data."
   ]
  },
  {
   "cell_type": "code",
   "execution_count": 132,
   "metadata": {
    "scrolled": true
   },
   "outputs": [
    {
     "data": {
      "text/plain": [
       "count    899811.000000\n",
       "mean        806.608180\n",
       "std        1654.413851\n",
       "min          60.000000\n",
       "25%         370.000000\n",
       "50%         595.000000\n",
       "75%         932.000000\n",
       "max      811077.000000\n",
       "Name: duration_sec, dtype: float64"
      ]
     },
     "execution_count": 132,
     "metadata": {},
     "output_type": "execute_result"
    }
   ],
   "source": [
    "df['duration_sec'].describe()"
   ]
  },
  {
   "cell_type": "code",
   "execution_count": 133,
   "metadata": {},
   "outputs": [
    {
     "name": "stdout",
     "output_type": "stream",
     "text": [
      "-473.0\n",
      "1775.0\n"
     ]
    }
   ],
   "source": [
    "IQR = 932 - 370\n",
    "Lower_Outlier = 370 - (1.5*IQR)\n",
    "Higher_Outlier = 932 + (1.5*IQR)\n",
    "print(Lower_Outlier)\n",
    "print(Higher_Outlier)\n",
    "df = df.drop(df[df.duration_sec > Higher_Outlier].index)"
   ]
  },
  {
   "cell_type": "markdown",
   "metadata": {},
   "source": [
    "- Therefore, we only take the data from 0 seconds to 1775 seconds in 'duration_sec'."
   ]
  },
  {
   "cell_type": "code",
   "execution_count": 134,
   "metadata": {
    "scrolled": true
   },
   "outputs": [
    {
     "data": {
      "text/plain": [
       "Text(0.5, 1.0, 'Variation from 0 to 1775 (s)')"
      ]
     },
     "execution_count": 134,
     "metadata": {},
     "output_type": "execute_result"
    },
    {
     "data": {
      "image/png": "[encoded data removed]",
      "text/plain": [
       "<Figure size 432x288 with 1 Axes>"
      ]
     },
     "metadata": {
      "needs_background": "light"
     },
     "output_type": "display_data"
    }
   ],
   "source": [
    "bins = np.arange(0, Higher_Outlier, 60)\n",
    "plt.hist(data=df, x='duration_sec', bins=bins)\n",
    "plt.xlabel('Duration Second(s)')\n",
    "plt.ylabel('Number of Values')\n",
    "plt.title('Variation from 0 to 1775 (s)')"
   ]
  },
  {
   "cell_type": "markdown",
   "metadata": {},
   "source": [
    "Sorting the difference by the months"
   ]
  },
  {
   "cell_type": "markdown",
   "metadata": {},
   "source": [
    "**user_type**\n",
    "\n",
    "- More than 60% of the users have subscibed the GoBike service.\n",
    "- We can consider that the subscribing policy of GoBike has the important portion of the sales."
   ]
  },
  {
   "cell_type": "code",
   "execution_count": 135,
   "metadata": {},
   "outputs": [
    {
     "data": {
      "text/plain": [
       "Text(0.5, 1.0, 'Type of Users')"
      ]
     },
     "execution_count": 135,
     "metadata": {},
     "output_type": "execute_result"
    },
    {
     "data": {
      "image/png": "[encoded data removed]",
      "text/plain": [
       "<Figure size 432x288 with 1 Axes>"
      ]
     },
     "metadata": {},
     "output_type": "display_data"
    }
   ],
   "source": [
    "sorted_counts = df['user_type'].value_counts()\n",
    "labels = sorted_counts.index\n",
    "plt.pie(sorted_counts, labels=labels, startangle=90, counterclock=False, autopct='%1.1f%%')\n",
    "plt.legend(labels, loc=\"best\")\n",
    "plt.axis('square')\n",
    "plt.title('Type of Users')"
   ]
  },
  {
   "cell_type": "markdown",
   "metadata": {},
   "source": [
    "**rental_access_method**\n",
    "\n",
    "- More than 90% of the users have used the GoBike service by the application, while the clippers only have 7.7%.\n",
    "- Improving the utility and the design of the application is absolutely important in this service."
   ]
  },
  {
   "cell_type": "code",
   "execution_count": 136,
   "metadata": {
    "scrolled": true
   },
   "outputs": [
    {
     "data": {
      "text/plain": [
       "Text(0.5, 1.0, 'Access Method')"
      ]
     },
     "execution_count": 136,
     "metadata": {},
     "output_type": "execute_result"
    },
    {
     "data": {
      "image/png": "[encoded data removed]",
      "text/plain": [
       "<Figure size 432x288 with 1 Axes>"
      ]
     },
     "metadata": {},
     "output_type": "display_data"
    }
   ],
   "source": [
    "sorted_counts = df['rental_access_method'].value_counts()\n",
    "labels = sorted_counts.index\n",
    "plt.pie(sorted_counts, labels=labels, startangle=90, counterclock=False, autopct='%1.1f%%')\n",
    "plt.legend(labels, loc=\"best\")\n",
    "plt.axis('square')\n",
    "plt.title('Access Method')"
   ]
  },
  {
   "cell_type": "markdown",
   "metadata": {},
   "source": [
    "**start_date**"
   ]
  },
  {
   "cell_type": "code",
   "execution_count": 137,
   "metadata": {},
   "outputs": [
    {
     "data": {
      "text/plain": [
       "(array([254291.,      0.,      0.,      0.,      0., 375373.,      0.,\n",
       "             0.,      0., 152702.]),\n",
       " array([0. , 0.2, 0.4, 0.6, 0.8, 1. , 1.2, 1.4, 1.6, 1.8, 2. ]),\n",
       " <a list of 10 Patch objects>)"
      ]
     },
     "execution_count": 137,
     "metadata": {},
     "output_type": "execute_result"
    },
    {
     "data": {
      "image/png": "[encoded data removed]",
      "text/plain": [
       "<Figure size 432x288 with 1 Axes>"
      ]
     },
     "metadata": {
      "needs_background": "light"
     },
     "output_type": "display_data"
    }
   ],
   "source": [
    "plt.hist(df['start_time'])"
   ]
  },
  {
   "cell_type": "markdown",
   "metadata": {},
   "source": [
    "### Discuss the distribution(s) of your variable(s) of interest. Were there any unusual points? Did you need to perform any transformations?\n",
    "\n",
    "> In the duration_sec variable, most of the duration time was distributed between 0 to 2000 seconds(almost 33 mins). It is easy to understand that people do not tend to use bike more than a couple of hours. Therefore, we do not need to perform the transformation, but need to focus on the short time.\n",
    "\n",
    "### Of the features you investigated, were there any unusual distributions? Did you perform any operations on the data to tidy, adjust, or change the form of the data? If so, why did you do this?\n",
    "\n",
    "> As the duration_sec has a lot of outliers, I adjusted the data only from 0 to 1775 seconds."
   ]
  },
  {
   "cell_type": "markdown",
   "metadata": {},
   "source": [
    "## Bivariate Exploration\n",
    "\n",
    "- start_time & duration_sec"
   ]
  },
  {
   "cell_type": "code",
   "execution_count": 138,
   "metadata": {},
   "outputs": [
    {
     "data": {
      "text/plain": [
       "<matplotlib.axes._subplots.AxesSubplot at 0x266120e3a48>"
      ]
     },
     "execution_count": 138,
     "metadata": {},
     "output_type": "execute_result"
    },
    {
     "data": {
      "image/png": "[encoded data removed]",
      "text/plain": [
       "<Figure size 432x288 with 1 Axes>"
      ]
     },
     "metadata": {
      "needs_background": "light"
     },
     "output_type": "display_data"
    }
   ],
   "source": [
    "sns.violinplot(data = df, x='duration_sec', y='start_time', inner = None)"
   ]
  },
  {
   "cell_type": "markdown",
   "metadata": {},
   "source": [
    "- start_time & user_type"
   ]
  },
  {
   "cell_type": "code",
   "execution_count": 139,
   "metadata": {},
   "outputs": [
    {
     "data": {
      "text/plain": [
       "<matplotlib.axes._subplots.AxesSubplot at 0x26612052308>"
      ]
     },
     "execution_count": 139,
     "metadata": {},
     "output_type": "execute_result"
    },
    {
     "data": {
      "image/png": "[encoded data removed]",
      "text/plain": [
       "<Figure size 432x288 with 1 Axes>"
      ]
     },
     "metadata": {
      "needs_background": "light"
     },
     "output_type": "display_data"
    }
   ],
   "source": [
    "sns.countplot(data = df, x='user_type', hue='start_time')"
   ]
  },
  {
   "cell_type": "markdown",
   "metadata": {},
   "source": [
    "- start_time & rental_access_method"
   ]
  },
  {
   "cell_type": "code",
   "execution_count": 142,
   "metadata": {},
   "outputs": [
    {
     "data": {
      "text/plain": [
       "<matplotlib.axes._subplots.AxesSubplot at 0x26611f04c48>"
      ]
     },
     "execution_count": 142,
     "metadata": {},
     "output_type": "execute_result"
    },
    {
     "data": {
      "image/png": "[encoded data removed]",
      "text/plain": [
       "<Figure size 432x288 with 1 Axes>"
      ]
     },
     "metadata": {
      "needs_background": "light"
     },
     "output_type": "display_data"
    }
   ],
   "source": [
    "sns.countplot(data = df, x='rental_access_method', hue='start_time')"
   ]
  },
  {
   "cell_type": "markdown",
   "metadata": {},
   "source": [
    "### Talk about some of the relationships you observed in this part of the investigation. How did the feature(s) of interest vary with other features in the dataset?\n",
    "\n",
    "> Your answer here!\n",
    "\n",
    "### Did you observe any interesting relationships between the other features (not the main feature(s) of interest)?\n",
    "\n",
    "> Your answer here!"
   ]
  },
  {
   "cell_type": "markdown",
   "metadata": {},
   "source": [
    "## Multivariate Exploration\n",
    "\n",
    "- The duration of each month grouped by the user type"
   ]
  },
  {
   "cell_type": "code",
   "execution_count": null,
   "metadata": {},
   "outputs": [],
   "source": [
    "sns.violinplot(data = df, x='duration_sec', y='start_time', inner = None)"
   ]
  },
  {
   "cell_type": "markdown",
   "metadata": {},
   "source": [
    "- The duration of each month grouped by the access method"
   ]
  },
  {
   "cell_type": "code",
   "execution_count": null,
   "metadata": {},
   "outputs": [],
   "source": []
  },
  {
   "cell_type": "markdown",
   "metadata": {},
   "source": [
    "### Talk about some of the relationships you observed in this part of the investigation. Were there features that strengthened each other in terms of looking at your feature(s) of interest?\n",
    "\n",
    "> Your answer here!\n",
    "\n",
    "### Were there any interesting or surprising interactions between features?\n",
    "\n",
    "> Your answer here!"
   ]
  },
  {
   "cell_type": "markdown",
   "metadata": {},
   "source": [
    "> At the end of your report, make sure that you export the notebook as an\n",
    "html file from the `File > Download as... > HTML` menu. Make sure you keep\n",
    "track of where the exported file goes, so you can put it in the same folder\n",
    "as this notebook for project submission. Also, make sure you remove all of\n",
    "the quote-formatted guide notes like this one before you finish your report!"
   ]
  },
  {
   "cell_type": "code",
   "execution_count": null,
   "metadata": {},
   "outputs": [],
   "source": []
  }
 ],
 "metadata": {
  "hide_input": false,
  "kernelspec": {
   "display_name": "Python 3",
   "language": "python",
   "name": "python3"
  },
  "language_info": {
   "codemirror_mode": {
    "name": "ipython",
    "version": 3
   },
   "file_extension": ".py",
   "mimetype": "text/x-python",
   "name": "python",
   "nbconvert_exporter": "python",
   "pygments_lexer": "ipython3",
   "version": "3.7.7"
  }
 },
 "nbformat": 4,
 "nbformat_minor": 2
}
